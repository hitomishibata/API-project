{
 "cells": [
  {
   "cell_type": "code",
   "execution_count": 10,
   "metadata": {},
   "outputs": [],
   "source": [
    "import requests\n",
    "import pandas as pd\n",
    "import pyarrow as pa\n",
    "import pyarrow.parquet as pq"
   ]
  },
  {
   "cell_type": "code",
   "execution_count": 11,
   "metadata": {},
   "outputs": [],
   "source": [
    "artifacts = [\"books\", \"characters\", \"houses\", \"spells\"]\n",
    "languages = [\"en\", \"es\", \"fr\", \"it\", \"pt\"]"
   ]
  },
  {
   "cell_type": "code",
   "execution_count": 12,
   "metadata": {},
   "outputs": [],
   "source": [
    "def get_data(language, artifact):\n",
    "    if (language in languages and artifact in artifacts):\n",
    "        response = requests.get(\n",
    "            f\"https://potterapi-fedeperin.vercel.app/{language}/{artifact}\"\n",
    "            )\n",
    "        j_df = response.json()\n",
    "        return j_df\n",
    "    else:\n",
    "        print(f\"language: {language} or artifact: {artifact} does not exist\")"
   ]
  },
  {
   "cell_type": "code",
   "execution_count": 13,
   "metadata": {},
   "outputs": [],
   "source": [
    "language = input(\"language: \")\n",
    "artifact = input(\"artifact: \")\n",
    "pd_df = pd.DataFrame(get_data(language, artifact))"
   ]
  },
  {
   "cell_type": "code",
   "execution_count": 14,
   "metadata": {},
   "outputs": [],
   "source": [
    "table = pa.Table.from_pandas(pd_df)\n",
    "pq.write_table(table, f'{artifact}-{language}.parquet')"
   ]
  }
 ],
 "metadata": {
  "kernelspec": {
   "display_name": "Python 3",
   "language": "python",
   "name": "python3"
  },
  "language_info": {
   "codemirror_mode": {
    "name": "ipython",
    "version": 3
   },
   "file_extension": ".py",
   "mimetype": "text/x-python",
   "name": "python",
   "nbconvert_exporter": "python",
   "pygments_lexer": "ipython3",
   "version": "3.11.9"
  }
 },
 "nbformat": 4,
 "nbformat_minor": 2
}
