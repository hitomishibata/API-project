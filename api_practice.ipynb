{
 "cells": [
  {
   "cell_type": "code",
   "execution_count": 28,
   "metadata": {},
   "outputs": [],
   "source": [
    "import requests\n",
    "import pandas as pd\n",
    "import pyarrow as pa\n",
    "import pyarrow.parquet as pq"
   ]
  },
  {
   "cell_type": "code",
   "execution_count": 29,
   "metadata": {},
   "outputs": [],
   "source": [
    "artifacts = [\"books\", \"characters\", \"houses\", \"spells\"]\n",
    "languages = [\"en\", \"es\", \"fr\", \"it\",\"pt\"]"
   ]
  },
  {
   "cell_type": "code",
   "execution_count": 30,
   "metadata": {},
   "outputs": [],
   "source": [
    "def get_data(language, artifact):\n",
    "    if (language in languages and artifact in artifacts):\n",
    "        response = requests.get(f\"https://potterapi-fedeperin.vercel.app/{language}/{artifact}\")\n",
    "        j_df = response.json()\n",
    "        return j_df\n",
    "    else:\n",
    "        print(f\"language: {language} or artifact: {artifact} does not exist\")"
   ]
  },
  {
   "cell_type": "code",
   "execution_count": 31,
   "metadata": {},
   "outputs": [],
   "source": [
    "language = input(\"language: \")\n",
    "artifact = input(\"artifact: \")\n",
    "pd_df = pd.DataFrame(get_data(language, artifact))"
   ]
  },
  {
   "cell_type": "code",
   "execution_count": 32,
   "metadata": {},
   "outputs": [],
   "source": [
    "table = pa.Table.from_pandas(pd_df)\n",
    "pq.write_table(table, f'{artifact}-{language}.parquet')        "
   ]
  },
  {
   "cell_type": "code",
   "execution_count": 33,
   "metadata": {},
   "outputs": [
    {
     "data": {
      "text/html": [
       "<div>\n",
       "<style scoped>\n",
       "    .dataframe tbody tr th:only-of-type {\n",
       "        vertical-align: middle;\n",
       "    }\n",
       "\n",
       "    .dataframe tbody tr th {\n",
       "        vertical-align: top;\n",
       "    }\n",
       "\n",
       "    .dataframe thead th {\n",
       "        text-align: right;\n",
       "    }\n",
       "</style>\n",
       "<table border=\"1\" class=\"dataframe\">\n",
       "  <thead>\n",
       "    <tr style=\"text-align: right;\">\n",
       "      <th></th>\n",
       "      <th>house</th>\n",
       "      <th>emoji</th>\n",
       "      <th>founder</th>\n",
       "      <th>colors</th>\n",
       "      <th>animal</th>\n",
       "      <th>index</th>\n",
       "    </tr>\n",
       "  </thead>\n",
       "  <tbody>\n",
       "    <tr>\n",
       "      <th>0</th>\n",
       "      <td>Gryffindor</td>\n",
       "      <td>🦁</td>\n",
       "      <td>Godric Gryffindor</td>\n",
       "      <td>[red, gold]</td>\n",
       "      <td>Lion</td>\n",
       "      <td>0</td>\n",
       "    </tr>\n",
       "    <tr>\n",
       "      <th>1</th>\n",
       "      <td>Hufflepuff</td>\n",
       "      <td>🦡</td>\n",
       "      <td>Helga Hufflepuff</td>\n",
       "      <td>[yellow, black]</td>\n",
       "      <td>Badger</td>\n",
       "      <td>1</td>\n",
       "    </tr>\n",
       "    <tr>\n",
       "      <th>2</th>\n",
       "      <td>Ravenclaw</td>\n",
       "      <td>🦅</td>\n",
       "      <td>Rowena Ravenclaw</td>\n",
       "      <td>[blue, yellow]</td>\n",
       "      <td>Raven</td>\n",
       "      <td>2</td>\n",
       "    </tr>\n",
       "    <tr>\n",
       "      <th>3</th>\n",
       "      <td>Slytherin</td>\n",
       "      <td>🐍</td>\n",
       "      <td>Salazar Slytherin</td>\n",
       "      <td>[green, silver]</td>\n",
       "      <td>Snake</td>\n",
       "      <td>3</td>\n",
       "    </tr>\n",
       "  </tbody>\n",
       "</table>\n",
       "</div>"
      ],
      "text/plain": [
       "        house emoji            founder           colors  animal  index\n",
       "0  Gryffindor     🦁  Godric Gryffindor      [red, gold]    Lion      0\n",
       "1  Hufflepuff     🦡   Helga Hufflepuff  [yellow, black]  Badger      1\n",
       "2   Ravenclaw     🦅   Rowena Ravenclaw   [blue, yellow]   Raven      2\n",
       "3   Slytherin     🐍  Salazar Slytherin  [green, silver]   Snake      3"
      ]
     },
     "execution_count": 33,
     "metadata": {},
     "output_type": "execute_result"
    }
   ],
   "source": [
    "df = pd.read_parquet('houses-en.parquet')\n",
    "df"
   ]
  }
 ],
 "metadata": {
  "kernelspec": {
   "display_name": "Python 3",
   "language": "python",
   "name": "python3"
  },
  "language_info": {
   "codemirror_mode": {
    "name": "ipython",
    "version": 3
   },
   "file_extension": ".py",
   "mimetype": "text/x-python",
   "name": "python",
   "nbconvert_exporter": "python",
   "pygments_lexer": "ipython3",
   "version": "3.11.9"
  }
 },
 "nbformat": 4,
 "nbformat_minor": 2
}
